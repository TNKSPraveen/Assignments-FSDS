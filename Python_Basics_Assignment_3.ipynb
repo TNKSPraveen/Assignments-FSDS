{
  "nbformat": 4,
  "nbformat_minor": 0,
  "metadata": {
    "colab": {
      "name": "Python_Basics_Assignment_3.ipynb",
      "provenance": [],
      "collapsed_sections": []
    },
    "kernelspec": {
      "name": "python3",
      "display_name": "Python 3"
    },
    "language_info": {
      "name": "python"
    }
  },
  "cells": [
    {
      "cell_type": "markdown",
      "source": [
        "1. Why are functions advantageous to have in your programs?\n",
        "2. When does the code in a function run: when it&#39;s specified or when it&#39;s called?\n",
        "3. What statement creates a function?\n",
        "4. What is the difference between a function and a function call?\n",
        "5. How many global scopes are there in a Python program? How many local scopes?\n",
        "6. What happens to variables in a local scope when the function call returns?\n",
        "7. What is the concept of a return value? Is it possible to have a return value in an expression?\n",
        "8. If a function does not have a return statement, what is the return value of a call to that function?\n",
        "9. How do you make a function variable refer to the global variable?\n",
        "10. What is the data type of None?\n",
        "11. What does the sentence import areallyourpetsnamederic do?\n",
        "12. If you had a bacon() feature in a spam module, what would you call it after importing spam?\n",
        "13. What can you do to save a programme from crashing if it encounters an error?\n",
        "14. What is the purpose of the try clause? What is the purpose of the except clause?"
      ],
      "metadata": {
        "id": "thki8Ms0qWgR"
      }
    },
    {
      "cell_type": "markdown",
      "source": [
        "Question1:\n",
        "Functions can be called directly any number of times in a program, thus by reducing the repetition of a code. "
      ],
      "metadata": {
        "id": "wxewsetJqZ-N"
      }
    },
    {
      "cell_type": "markdown",
      "source": [
        "Question 2: The code in a function will run, when it is called in the program"
      ],
      "metadata": {
        "id": "FKBDWlgxq0YM"
      }
    },
    {
      "cell_type": "markdown",
      "source": [
        "Question 3: \"def\" creates a function.\n",
        "syntax for the same is: \"def function_name():\""
      ],
      "metadata": {
        "id": "FXL1f-diq_8A"
      }
    },
    {
      "cell_type": "markdown",
      "source": [
        "Question 4: Function is a small program which is used to run particular code any number of times. To run the function, we need to call the function in the program with appropriate values."
      ],
      "metadata": {
        "id": "z5W8HMfrrPtx"
      }
    },
    {
      "cell_type": "markdown",
      "source": [
        "QUestion 5: Global scope: A variable created in the program and is applicable for the entire program.\n",
        "Local Scope: A variable created inside a function, and is applicable only within the function."
      ],
      "metadata": {
        "id": "9QnH-HTkrlY6"
      }
    },
    {
      "cell_type": "markdown",
      "source": [
        "Question 6: As variables in local scope are valid in the called functions, the local variables becomes void after the function call returns."
      ],
      "metadata": {
        "id": "HOVu1YsPtmZw"
      }
    },
    {
      "cell_type": "markdown",
      "source": [
        "Question 7: Return value is used to return outcome of the function. We encounter errors shown below, when return used outside the function. "
      ],
      "metadata": {
        "id": "ljmK-KtKt9wr"
      }
    },
    {
      "cell_type": "code",
      "source": [
        "a = 10\n",
        "return a\n",
        "  "
      ],
      "metadata": {
        "colab": {
          "base_uri": "https://localhost:8080/",
          "height": 130
        },
        "id": "JZ0TST-fw013",
        "outputId": "8babec1c-e7bd-423f-b78f-60a08d80bf22"
      },
      "execution_count": null,
      "outputs": [
        {
          "output_type": "error",
          "ename": "SyntaxError",
          "evalue": "ignored",
          "traceback": [
            "\u001b[0;36m  File \u001b[0;32m\"<ipython-input-8-0a7a4e2c3212>\"\u001b[0;36m, line \u001b[0;32m2\u001b[0m\n\u001b[0;31m    return a\u001b[0m\n\u001b[0m            ^\u001b[0m\n\u001b[0;31mSyntaxError\u001b[0m\u001b[0;31m:\u001b[0m 'return' outside function\n"
          ]
        }
      ]
    },
    {
      "cell_type": "markdown",
      "source": [
        "Question 8: If a functions doesn't have return statement, it wont retun any value to the call of the function"
      ],
      "metadata": {
        "id": "7pcLU86mGyLJ"
      }
    },
    {
      "cell_type": "code",
      "source": [
        "def fun(a,b):\n",
        "  a+b"
      ],
      "metadata": {
        "id": "nj2DrTHqG_E0"
      },
      "execution_count": null,
      "outputs": []
    },
    {
      "cell_type": "code",
      "source": [
        "fun(2,3)"
      ],
      "metadata": {
        "id": "tpTKHybgHFq3"
      },
      "execution_count": null,
      "outputs": []
    },
    {
      "cell_type": "markdown",
      "source": [
        "Question 9: by using \"global\" keyword, we can use the function variable to refer to ths global scope"
      ],
      "metadata": {
        "id": "BxzkvfQQHjVu"
      }
    },
    {
      "cell_type": "code",
      "source": [
        "#Question 10: Data type of none is - NoneType\n",
        "type(None)"
      ],
      "metadata": {
        "colab": {
          "base_uri": "https://localhost:8080/"
        },
        "id": "IKh5y1yvHHmX",
        "outputId": "57dcb132-815a-4414-93c4-9dfcb5b0d60b"
      },
      "execution_count": null,
      "outputs": [
        {
          "output_type": "execute_result",
          "data": {
            "text/plain": [
              "NoneType"
            ]
          },
          "metadata": {},
          "execution_count": 12
        }
      ]
    },
    {
      "cell_type": "markdown",
      "source": [
        "Question 11: the statement import areallyourpetsnamederic returns none as there is no module with that name. But if any module present with that name present, will be imported.\n"
      ],
      "metadata": {
        "id": "nkrCHfGfImwa"
      }
    },
    {
      "cell_type": "code",
      "source": [
        "import areallyourpetsnamederic"
      ],
      "metadata": {
        "colab": {
          "base_uri": "https://localhost:8080/",
          "height": 304
        },
        "id": "k-F7AhhiH0FQ",
        "outputId": "e6db88f5-3a9b-4051-9287-302ef61f231f"
      },
      "execution_count": null,
      "outputs": [
        {
          "output_type": "error",
          "ename": "ModuleNotFoundError",
          "evalue": "ignored",
          "traceback": [
            "\u001b[0;31m---------------------------------------------------------------------------\u001b[0m",
            "\u001b[0;31mModuleNotFoundError\u001b[0m                       Traceback (most recent call last)",
            "\u001b[0;32m<ipython-input-13-b1ea9cb2228f>\u001b[0m in \u001b[0;36m<module>\u001b[0;34m()\u001b[0m\n\u001b[0;32m----> 1\u001b[0;31m \u001b[0;32mimport\u001b[0m \u001b[0mareallyourpetsnamederic\u001b[0m\u001b[0;34m\u001b[0m\u001b[0;34m\u001b[0m\u001b[0m\n\u001b[0m",
            "\u001b[0;31mModuleNotFoundError\u001b[0m: No module named 'areallyourpetsnamederic'",
            "",
            "\u001b[0;31m---------------------------------------------------------------------------\u001b[0;32m\nNOTE: If your import is failing due to a missing package, you can\nmanually install dependencies using either !pip or !apt.\n\nTo view examples of installing some common dependencies, click the\n\"Open Examples\" button below.\n\u001b[0;31m---------------------------------------------------------------------------\u001b[0m\n"
          ],
          "errorDetails": {
            "actions": [
              {
                "action": "open_url",
                "actionText": "Open Examples",
                "url": "/notebooks/snippets/importing_libraries.ipynb"
              }
            ]
          }
        }
      ]
    },
    {
      "cell_type": "markdown",
      "source": [
        "Question 12: We can call bacon() in the Spam module by using\n",
        "spam.bacon()"
      ],
      "metadata": {
        "id": "BTTYDPU-I0R6"
      }
    },
    {
      "cell_type": "markdown",
      "source": [
        "Question 13. What can you do to save a programme from crashing if it encounters an error? We can use Expection Handling with try and except clauses for run time errors."
      ],
      "metadata": {
        "id": "9jyA2etMYawb"
      }
    },
    {
      "cell_type": "markdown",
      "source": [
        "Question 14. What is the purpose of the try clause? What is the purpose of the except clause?\n",
        "Try: This clause contains the program code to be executed.\n",
        "Except: This clause will be executed if try clause returns error.\n",
        "One can give error type based on the program code under this clause."
      ],
      "metadata": {
        "id": "M1MqnqaoYnbw"
      }
    }
  ]
}