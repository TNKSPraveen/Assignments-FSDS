{
  "nbformat": 4,
  "nbformat_minor": 0,
  "metadata": {
    "colab": {
      "name": "Python_Programming_Assigment_4.ipynb",
      "provenance": [],
      "collapsed_sections": []
    },
    "kernelspec": {
      "name": "python3",
      "display_name": "Python 3"
    },
    "language_info": {
      "name": "python"
    }
  },
  "cells": [
    {
      "cell_type": "markdown",
      "source": [
        "1. Write a Python Program to Find the Factorial of a Number?\n",
        "2. Write a Python Program to Display the multiplication Table?\n",
        "3. Write a Python Program to Print the Fibonacci sequence?\n",
        "4. Write a Python Program to Check Armstrong Number?\n",
        "5. Write a Python Program to Find Armstrong Number in an Interval?\n",
        "6. Write a Python Program to Find the Sum of Natural Numbers?"
      ],
      "metadata": {
        "id": "c7Sg3BJ8BK0m"
      }
    },
    {
      "cell_type": "code",
      "source": [
        "# Question 1: Factorial of number\n",
        "\n",
        "F_num=int(input(\"Enter the number: \"))\n",
        "Result=1\n",
        "\n",
        "for i in range(1,F_num+1):\n",
        "  Result=Result*i\n",
        "\n",
        "print(\"The factorial of the given number is: \", Result)"
      ],
      "metadata": {
        "colab": {
          "base_uri": "https://localhost:8080/"
        },
        "id": "nW4du9ngBMC7",
        "outputId": "c971369b-68f8-4eb1-ee7a-00e6283e3102"
      },
      "execution_count": null,
      "outputs": [
        {
          "output_type": "stream",
          "name": "stdout",
          "text": [
            "Enter the number: 6\n",
            "The factorial of the given number is:  720\n"
          ]
        }
      ]
    },
    {
      "cell_type": "code",
      "source": [
        "# Question 2: Multiplication table\n",
        "\n",
        "Num1 = int(input(\"Enter the number: \"))\n",
        "\n",
        "for i in range(1,11):\n",
        "  valu=Num1*i\n",
        "  print(Num1, ' * ', i , '= ', valu)"
      ],
      "metadata": {
        "colab": {
          "base_uri": "https://localhost:8080/"
        },
        "id": "MYc9IAv2JQzI",
        "outputId": "9c37d40c-fb8e-43f9-98d2-dd389f58f3e7"
      },
      "execution_count": null,
      "outputs": [
        {
          "output_type": "stream",
          "name": "stdout",
          "text": [
            "Enter the number: 7\n",
            "7  *  1 =  7\n",
            "7  *  2 =  14\n",
            "7  *  3 =  21\n",
            "7  *  4 =  28\n",
            "7  *  5 =  35\n",
            "7  *  6 =  42\n",
            "7  *  7 =  49\n",
            "7  *  8 =  56\n",
            "7  *  9 =  63\n",
            "7  *  10 =  70\n"
          ]
        }
      ]
    },
    {
      "cell_type": "code",
      "source": [
        "# Question 3: Fibinocci Sequence Case 1:\n",
        "\n",
        "Fib=int(input(\"Enter the max numbers: \"))\n",
        "\n",
        "a=0\n",
        "b=1\n",
        "print(a)\n",
        "print(b)\n",
        "for i in range(1,Fib-1):\n",
        "  c=a+b\n",
        "  a=b\n",
        "  b=c\n",
        "  print(c)\n"
      ],
      "metadata": {
        "colab": {
          "base_uri": "https://localhost:8080/"
        },
        "id": "qd06p4tiLDC5",
        "outputId": "1fca2dd4-5c06-4374-bb36-28430bedec8e"
      },
      "execution_count": 45,
      "outputs": [
        {
          "output_type": "stream",
          "name": "stdout",
          "text": [
            "Enter the max numbers: 20\n",
            "0\n",
            "1\n",
            "1\n",
            "2\n",
            "3\n",
            "5\n",
            "8\n",
            "13\n",
            "21\n",
            "34\n",
            "55\n",
            "89\n",
            "144\n",
            "233\n",
            "377\n",
            "610\n",
            "987\n",
            "1597\n",
            "2584\n",
            "4181\n"
          ]
        }
      ]
    },
    {
      "cell_type": "code",
      "source": [
        "# Question 3: Fibinocci Sequence Case 2:\n",
        "Fib1=int(input(\"Enter the number below which Fibbo numbers are required: \"))\n",
        "\n",
        "a=0\n",
        "b=1\n",
        "print(a)\n",
        "print(b)\n",
        "for i in range(1,Fib1):\n",
        "  c=a+b\n",
        "  a=b\n",
        "  b=c\n",
        "  if c<Fib1:\n",
        "    print(c)"
      ],
      "metadata": {
        "id": "AYu73zb9NGjO",
        "colab": {
          "base_uri": "https://localhost:8080/"
        },
        "outputId": "6eac535d-bb77-4712-ce05-fb88475cd34d"
      },
      "execution_count": 44,
      "outputs": [
        {
          "output_type": "stream",
          "name": "stdout",
          "text": [
            "Enter the number below which Fibbo numbers are required: 20\n",
            "0\n",
            "1\n",
            "1\n",
            "2\n",
            "3\n",
            "5\n",
            "8\n",
            "13\n"
          ]
        }
      ]
    },
    {
      "cell_type": "code",
      "source": [
        "# Question 4: Amstrong Number\n",
        "\n",
        "Ams=int(input(\"Enter the number to check: \"))\n",
        "Result=0\n",
        "n=len(str(Ams))\n",
        "num=Ams\n",
        "for i in range(1,n+1):\n",
        "  \n",
        "  while(num!=0):\n",
        "    digit=num%10\n",
        "    Result=Result+digit**n\n",
        "    num=num//10\n",
        "if Result==Ams:\n",
        "  print(\"The given number is Amstrong number\")\n",
        "else:\n",
        "  print(\"The given number is not Amstrong number\")"
      ],
      "metadata": {
        "colab": {
          "base_uri": "https://localhost:8080/"
        },
        "id": "37QWVEUtQy-i",
        "outputId": "2013893c-8965-4a40-e761-f30f3cf0c69e"
      },
      "execution_count": 46,
      "outputs": [
        {
          "output_type": "stream",
          "name": "stdout",
          "text": [
            "Enter the number to check: 154\n",
            "The given number is not Amstrong number\n"
          ]
        }
      ]
    },
    {
      "cell_type": "code",
      "source": [
        "# Question 5: Amstrong number in the given interval\n",
        "\n",
        "Ams1_Low=int(input(\"Enter the lower range: \"))\n",
        "Ams1_Up=int(input(\"Enter the Max range to find Amstrong numbers: \"))\n",
        "\n",
        "for i in range(Ams1_Low,Ams1_Up+1):\n",
        "  \n",
        "  numb=i\n",
        "  result1=0\n",
        "  n=len(str(i))\n",
        "\n",
        "  while(i!=0):\n",
        "    digit1=i%10\n",
        "    result1=result1+digit1**n\n",
        "    i=i//10\n",
        "  if result1==numb:\n",
        "      print(numb)\n"
      ],
      "metadata": {
        "colab": {
          "base_uri": "https://localhost:8080/"
        },
        "id": "aBgMAl_mlioS",
        "outputId": "70f509fd-ae68-4e5d-80fc-518a783bcfc0"
      },
      "execution_count": 37,
      "outputs": [
        {
          "output_type": "stream",
          "name": "stdout",
          "text": [
            "Enter the lower range: 5\n",
            "Enter the Max range to find Amstrong numbers: 153\n",
            "5\n",
            "6\n",
            "7\n",
            "8\n",
            "9\n",
            "153\n"
          ]
        }
      ]
    },
    {
      "cell_type": "code",
      "source": [
        "# Question 6: Sum of Natural numbers\n",
        "\n",
        "NNum=int(input(\"Enter the Number to find sum of natural numbers: \"))\n",
        "Sum=0\n",
        "for i in range(NNum+1):\n",
        "  Sum=Sum+i\n",
        "print(\"Sum of Natural numbers till\", NNum, \"is: \", Sum)"
      ],
      "metadata": {
        "colab": {
          "base_uri": "https://localhost:8080/"
        },
        "id": "fWokjC8sobHK",
        "outputId": "906593d6-a887-41a2-ca5a-79967a0a903a"
      },
      "execution_count": 42,
      "outputs": [
        {
          "output_type": "stream",
          "name": "stdout",
          "text": [
            "Enter the Number to find sum of natural numbers: 6\n",
            "Sum of Natural numbers till 6 is:  21\n"
          ]
        }
      ]
    }
  ]
}