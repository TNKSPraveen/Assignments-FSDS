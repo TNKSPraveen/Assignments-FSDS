{
  "nbformat": 4,
  "nbformat_minor": 0,
  "metadata": {
    "colab": {
      "name": "Python_Programming_Assignment_1.ipynb",
      "provenance": [],
      "collapsed_sections": []
    },
    "kernelspec": {
      "name": "python3",
      "display_name": "Python 3"
    },
    "language_info": {
      "name": "python"
    }
  },
  "cells": [
    {
      "cell_type": "markdown",
      "source": [
        "1. Write a Python program to print &quot;Hello Python&quot;?\n",
        "2. Write a Python program to do arithmetical operations addition and division.?\n",
        "3. Write a Python program to find the area of a triangle?\n",
        "4. Write a Python program to swap two variables?\n",
        "5. Write a Python program to generate a random number?"
      ],
      "metadata": {
        "id": "Yvl_i1WtHx7y"
      }
    },
    {
      "cell_type": "code",
      "source": [
        "# Question 1: Print \"Hello Python\"\n",
        "\n",
        "print(\"Hello Python\")"
      ],
      "metadata": {
        "colab": {
          "base_uri": "https://localhost:8080/"
        },
        "id": "TdTkCSFtH1po",
        "outputId": "32f281b5-9806-490b-b654-7b17ff2a09aa"
      },
      "execution_count": 1,
      "outputs": [
        {
          "output_type": "stream",
          "name": "stdout",
          "text": [
            "Hello Python\n"
          ]
        }
      ]
    },
    {
      "cell_type": "code",
      "source": [
        "# Question 2: Arithmetic Operations\n",
        "\n",
        "print(\"Select required arithmetic operation:\")\n",
        "\n",
        "oper=int(input(\"Select 1: Addition,\\n 2: Subtraction,\\n 3: Multiply,\\n 4: Divide: \\t\"))\n",
        "\n",
        "a=float(input(\"Select 1st Number: \"))\n",
        "b=float(input(\"Select 2nd Number: \"))\n",
        "\n",
        "if oper==1:\n",
        "  c=a+b\n",
        "  print(\"Value of Addition: \", c)\n",
        "\n",
        "elif oper==2:\n",
        "  c=a-b\n",
        "  print(\"Value of Subtraction: \", c)\n",
        "\n",
        "elif oper==3:\n",
        "  c=a*b\n",
        "  print(\"Value of Multiplication: \", c)\n",
        "\n",
        "elif oper==4:\n",
        "  if b!=0:\n",
        "    c=a/b\n",
        "    print(\"Value of Division: \", c)\n",
        "  else:\n",
        "    print(\"Division can't be done using zero value\")\n",
        "else:\n",
        "  print(\"Invalid selection of operation\")"
      ],
      "metadata": {
        "colab": {
          "base_uri": "https://localhost:8080/"
        },
        "id": "u_wf4fZ9H88B",
        "outputId": "3a68ce4b-395d-4e07-de04-bcf915ae496a"
      },
      "execution_count": 9,
      "outputs": [
        {
          "output_type": "stream",
          "name": "stdout",
          "text": [
            "Select required arithmetic operation:\n",
            "Select 1: Addition,\n",
            " 2: Subtraction,\n",
            " 3: Multiply,\n",
            " 4: Divide: \t4\n",
            "Select 1st Number: 5\n",
            "Select 2nd Number: -4\n",
            "Value of Division:  -1.25\n"
          ]
        }
      ]
    },
    {
      "cell_type": "code",
      "source": [
        "# Question 3: Area of triangle\n",
        "\n",
        "a=int(input(\"Enter 1st side: \"))\n",
        "b=int(input(\"Enter 2nd side: \"))\n",
        "c=int(input(\"Enter 3rd side: \"))\n",
        "\n",
        "s=(a+b+c)/2\n",
        "\n",
        "Area=(s*(s-a)*(s-b)*(s-c))**0.5\n",
        "\n",
        "print(\"Area of the trianlge is: \", Area, \"sq. units\")"
      ],
      "metadata": {
        "colab": {
          "base_uri": "https://localhost:8080/"
        },
        "id": "YshunFZvOVmi",
        "outputId": "760da729-cfa8-4d03-86ed-dfbc3a791afb"
      },
      "execution_count": 12,
      "outputs": [
        {
          "output_type": "stream",
          "name": "stdout",
          "text": [
            "Enter 1st side: 9\n",
            "Enter 2nd side: 4\n",
            "Enter 3rd side: 7\n",
            "Area of the trianlge is:  13.416407864998739 sq. units\n"
          ]
        }
      ]
    },
    {
      "cell_type": "code",
      "source": [
        "# Question 4: Swap 2 variables\n",
        "\n",
        "a = \"This is First Line\"\n",
        "b = \"This is 2nd Line\"\n",
        "\n",
        "temp=a\n",
        "a=b\n",
        "b=temp\n",
        "\n",
        "print(a,b)"
      ],
      "metadata": {
        "colab": {
          "base_uri": "https://localhost:8080/"
        },
        "id": "u5PDl9PtRZ7y",
        "outputId": "20ad84d3-20ec-4242-90ed-bff0291af79a"
      },
      "execution_count": 14,
      "outputs": [
        {
          "output_type": "stream",
          "name": "stdout",
          "text": [
            "This is 2nd Line This is First Line\n"
          ]
        }
      ]
    },
    {
      "cell_type": "code",
      "source": [
        "# Question 5: Progam to generate a Randon number\n",
        "\n",
        "import random\n",
        "\n",
        "n= random.randint(1,1000)\n",
        "\n",
        "n1= random.randrange(1,100)\n",
        "\n",
        "print(n)\n",
        "print(n1)"
      ],
      "metadata": {
        "colab": {
          "base_uri": "https://localhost:8080/"
        },
        "id": "qPnxkzI9StSk",
        "outputId": "5c73a85b-07f3-4069-e418-a05927727504"
      },
      "execution_count": 25,
      "outputs": [
        {
          "output_type": "stream",
          "name": "stdout",
          "text": [
            "330\n",
            "46\n"
          ]
        }
      ]
    }
  ]
}