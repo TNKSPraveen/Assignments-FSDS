{
  "nbformat": 4,
  "nbformat_minor": 0,
  "metadata": {
    "colab": {
      "name": "Strings Class Assignment.ipynb",
      "provenance": [],
      "collapsed_sections": []
    },
    "kernelspec": {
      "name": "python3",
      "display_name": "Python 3"
    },
    "language_info": {
      "name": "python"
    }
  },
  "cells": [
    {
      "cell_type": "code",
      "execution_count": 1,
      "metadata": {
        "colab": {
          "base_uri": "https://localhost:8080/",
          "height": 36
        },
        "id": "WUe7wlRz5EaB",
        "outputId": "5353cbb6-e0d0-4990-ecb4-85aaed373aff"
      },
      "outputs": [
        {
          "output_type": "execute_result",
          "data": {
            "text/plain": [
              "'h   r tnrrmglsnimeNGyosi dtfco'"
            ],
            "application/vnd.google.colaboratory.intrinsic+json": {
              "type": "string"
            }
          },
          "metadata": {},
          "execution_count": 1
        }
      ],
      "source": [
        "s = \"this is My First Python programming class and i am learNING python string and its function\"\n",
        "#Question 1:\n",
        "s[1:100:3]"
      ]
    },
    {
      "cell_type": "code",
      "source": [
        "#Question 2:\n",
        "s[::-1]"
      ],
      "metadata": {
        "colab": {
          "base_uri": "https://localhost:8080/",
          "height": 36
        },
        "id": "v2UIY4nk5TTI",
        "outputId": "67db35eb-e6b6-403e-e5c4-d30cf9bf15ca"
      },
      "execution_count": 2,
      "outputs": [
        {
          "output_type": "execute_result",
          "data": {
            "text/plain": [
              "'noitcnuf sti dna gnirts nohtyp GNINrael ma i dna ssalc gnimmargorp nohtyP tsriF yM si siht'"
            ],
            "application/vnd.google.colaboratory.intrinsic+json": {
              "type": "string"
            }
          },
          "metadata": {},
          "execution_count": 2
        }
      ]
    },
    {
      "cell_type": "code",
      "source": [
        "#Question 3:\n",
        "s1=s.upper()\n",
        "s1.split()"
      ],
      "metadata": {
        "colab": {
          "base_uri": "https://localhost:8080/"
        },
        "id": "zht_GBwS5kXz",
        "outputId": "3c776b92-50eb-4485-9c54-9fef0cefa06d"
      },
      "execution_count": 3,
      "outputs": [
        {
          "output_type": "execute_result",
          "data": {
            "text/plain": [
              "['THIS',\n",
              " 'IS',\n",
              " 'MY',\n",
              " 'FIRST',\n",
              " 'PYTHON',\n",
              " 'PROGRAMMING',\n",
              " 'CLASS',\n",
              " 'AND',\n",
              " 'I',\n",
              " 'AM',\n",
              " 'LEARNING',\n",
              " 'PYTHON',\n",
              " 'STRING',\n",
              " 'AND',\n",
              " 'ITS',\n",
              " 'FUNCTION']"
            ]
          },
          "metadata": {},
          "execution_count": 3
        }
      ]
    },
    {
      "cell_type": "code",
      "source": [
        "#Question 4:\n",
        "s.lower()"
      ],
      "metadata": {
        "colab": {
          "base_uri": "https://localhost:8080/",
          "height": 36
        },
        "id": "UtTzcZuN6Mzr",
        "outputId": "a3e1d926-e304-498d-b12b-abe1de1d5016"
      },
      "execution_count": 4,
      "outputs": [
        {
          "output_type": "execute_result",
          "data": {
            "text/plain": [
              "'this is my first python programming class and i am learning python string and its function'"
            ],
            "application/vnd.google.colaboratory.intrinsic+json": {
              "type": "string"
            }
          },
          "metadata": {},
          "execution_count": 4
        }
      ]
    },
    {
      "cell_type": "code",
      "source": [
        "#Question 5:\n",
        "s.capitalize()"
      ],
      "metadata": {
        "colab": {
          "base_uri": "https://localhost:8080/",
          "height": 36
        },
        "id": "L14kPTX660_U",
        "outputId": "fa54a100-a466-4748-e6ec-183e55ff8fbf"
      },
      "execution_count": 5,
      "outputs": [
        {
          "output_type": "execute_result",
          "data": {
            "text/plain": [
              "'This is my first python programming class and i am learning python string and its function'"
            ],
            "application/vnd.google.colaboratory.intrinsic+json": {
              "type": "string"
            }
          },
          "metadata": {},
          "execution_count": 5
        }
      ]
    },
    {
      "cell_type": "markdown",
      "source": [
        "#Question 6: Difference between isalnum(), isalpha()\n",
        "Answer: isalnum() returns True if the string is having either alphabets or even numbers or both\n",
        "isalpha() returns True if the string is having only alphabets"
      ],
      "metadata": {
        "id": "KKMjXRK97Eoy"
      }
    },
    {
      "cell_type": "code",
      "source": [
        "s1=\"123hgr\"\n",
        "s1.isalpha()"
      ],
      "metadata": {
        "colab": {
          "base_uri": "https://localhost:8080/"
        },
        "id": "LMmHWmHC7Pdw",
        "outputId": "bcc45f99-5964-437a-edf9-bf5e4ed1f974"
      },
      "execution_count": 6,
      "outputs": [
        {
          "output_type": "execute_result",
          "data": {
            "text/plain": [
              "False"
            ]
          },
          "metadata": {},
          "execution_count": 6
        }
      ]
    },
    {
      "cell_type": "code",
      "source": [
        "s1.isalnum()"
      ],
      "metadata": {
        "colab": {
          "base_uri": "https://localhost:8080/"
        },
        "id": "foaPFctX-Gpb",
        "outputId": "f5dcf804-8536-43ba-fa21-16311d66d007"
      },
      "execution_count": 7,
      "outputs": [
        {
          "output_type": "execute_result",
          "data": {
            "text/plain": [
              "True"
            ]
          },
          "metadata": {},
          "execution_count": 7
        }
      ]
    },
    {
      "cell_type": "code",
      "source": [
        "#Question7: Example of Expand Tab\n",
        "s2=\"To\\tWhom\\tSo\\tEver\\tit\\tmay\\tconcern\"\n",
        "s2.expandtabs()"
      ],
      "metadata": {
        "colab": {
          "base_uri": "https://localhost:8080/",
          "height": 36
        },
        "id": "9Ypos2FD-Q_9",
        "outputId": "257dd412-6b52-48c5-e38c-7636d4a79fcb"
      },
      "execution_count": 8,
      "outputs": [
        {
          "output_type": "execute_result",
          "data": {
            "text/plain": [
              "'To      Whom    So      Ever    it      may     concern'"
            ],
            "application/vnd.google.colaboratory.intrinsic+json": {
              "type": "string"
            }
          },
          "metadata": {},
          "execution_count": 8
        }
      ]
    },
    {
      "cell_type": "code",
      "source": [
        "# Question 8: Example Strip, lstrip, rstrip\n",
        "s3=\"          And The Winner is       \"\n",
        "s3.strip()"
      ],
      "metadata": {
        "colab": {
          "base_uri": "https://localhost:8080/",
          "height": 36
        },
        "id": "mhDrYQZY-dyp",
        "outputId": "b95fd740-5543-48c5-d870-ceff2676bfb1"
      },
      "execution_count": 9,
      "outputs": [
        {
          "output_type": "execute_result",
          "data": {
            "text/plain": [
              "'And The Winner is'"
            ],
            "application/vnd.google.colaboratory.intrinsic+json": {
              "type": "string"
            }
          },
          "metadata": {},
          "execution_count": 9
        }
      ]
    },
    {
      "cell_type": "code",
      "source": [
        "s3.lstrip()"
      ],
      "metadata": {
        "colab": {
          "base_uri": "https://localhost:8080/",
          "height": 36
        },
        "id": "dYKmMzDUAl21",
        "outputId": "6329e1a9-43df-4812-c7af-aeddd212b1c0"
      },
      "execution_count": 10,
      "outputs": [
        {
          "output_type": "execute_result",
          "data": {
            "text/plain": [
              "'And The Winner is       '"
            ],
            "application/vnd.google.colaboratory.intrinsic+json": {
              "type": "string"
            }
          },
          "metadata": {},
          "execution_count": 10
        }
      ]
    },
    {
      "cell_type": "code",
      "source": [
        "s3.rstrip()"
      ],
      "metadata": {
        "colab": {
          "base_uri": "https://localhost:8080/",
          "height": 36
        },
        "id": "MRwcVeUNAs8Y",
        "outputId": "4e00a6e6-6be4-4c32-81b6-361f751336b3"
      },
      "execution_count": 11,
      "outputs": [
        {
          "output_type": "execute_result",
          "data": {
            "text/plain": [
              "'          And The Winner is'"
            ],
            "application/vnd.google.colaboratory.intrinsic+json": {
              "type": "string"
            }
          },
          "metadata": {},
          "execution_count": 11
        }
      ]
    },
    {
      "cell_type": "code",
      "source": [
        "s"
      ],
      "metadata": {
        "colab": {
          "base_uri": "https://localhost:8080/",
          "height": 36
        },
        "id": "bfGdPAI-Avw_",
        "outputId": "5f9c85a6-7964-44e1-ecb7-10c4f144cdf1"
      },
      "execution_count": 12,
      "outputs": [
        {
          "output_type": "execute_result",
          "data": {
            "text/plain": [
              "'this is My First Python programming class and i am learNING python string and its function'"
            ],
            "application/vnd.google.colaboratory.intrinsic+json": {
              "type": "string"
            }
          },
          "metadata": {},
          "execution_count": 12
        }
      ]
    },
    {
      "cell_type": "code",
      "source": [
        "#Question 9: replace one character with another\n",
        "s.replace('t','R')"
      ],
      "metadata": {
        "colab": {
          "base_uri": "https://localhost:8080/",
          "height": 36
        },
        "id": "58cFR9WsAz_z",
        "outputId": "e56e97f4-4762-437b-dbb7-1803adffd902"
      },
      "execution_count": 13,
      "outputs": [
        {
          "output_type": "execute_result",
          "data": {
            "text/plain": [
              "'Rhis is My FirsR PyRhon programming class and i am learNING pyRhon sRring and iRs funcRion'"
            ],
            "application/vnd.google.colaboratory.intrinsic+json": {
              "type": "string"
            }
          },
          "metadata": {},
          "execution_count": 13
        }
      ]
    },
    {
      "cell_type": "markdown",
      "source": [
        "#Question 10: Def of String Center\n",
        "Ans: This function moves the given string to the center and fills the sides of the string with the given string."
      ],
      "metadata": {
        "id": "mITpyOshkUu-"
      }
    },
    {
      "cell_type": "code",
      "source": [
        "s4= 'Lighting Speed'\n",
        "s4.center(50,\"*\")"
      ],
      "metadata": {
        "colab": {
          "base_uri": "https://localhost:8080/",
          "height": 36
        },
        "id": "JbbrlTw9kmeG",
        "outputId": "b762cdbf-2dcc-4229-9456-3eb958b07ae2"
      },
      "execution_count": 19,
      "outputs": [
        {
          "output_type": "execute_result",
          "data": {
            "text/plain": [
              "'******************Lighting Speed******************'"
            ],
            "application/vnd.google.colaboratory.intrinsic+json": {
              "type": "string"
            }
          },
          "metadata": {},
          "execution_count": 19
        }
      ]
    },
    {
      "cell_type": "markdown",
      "source": [
        "#Question 11: \n",
        "Compiler: Converts High level language to Machine Language, which computer can understand. It executes the entire code in one go.\n",
        "ex: C, C++ languages\n",
        "Interpretor: Converts High level language to Intermediate code, and then converts to Machine Language. It executes code, one statement at a time.\n",
        "ex: Python, Matlab"
      ],
      "metadata": {
        "id": "XEYlWakomx5_"
      }
    },
    {
      "cell_type": "markdown",
      "source": [
        "#Question 12:\n",
        "Python is a Interpreted language. It convers code to byte code and then byte code is executed."
      ],
      "metadata": {
        "id": "LrkdJNbk1KmB"
      }
    },
    {
      "cell_type": "markdown",
      "source": [
        "#Question 13: Use case of Python\n",
        "-> Python is used to to clean the data and data visualization for Data analytics purpose."
      ],
      "metadata": {
        "id": "rtUK9QK62flc"
      }
    },
    {
      "cell_type": "code",
      "source": [
        ""
      ],
      "metadata": {
        "id": "KZmsbl-j33VH"
      },
      "execution_count": null,
      "outputs": []
    }
  ]
}