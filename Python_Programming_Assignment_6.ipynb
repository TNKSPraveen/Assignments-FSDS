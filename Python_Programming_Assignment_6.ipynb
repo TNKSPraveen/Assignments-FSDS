{
 "cells": [
  {
   "cell_type": "raw",
   "metadata": {},
   "source": [
    "1. Write a Python Program to Display Fibonacci Sequence Using Recursion?\n",
    "2. Write a Python Program to Find Factorial of Number Using Recursion?\n",
    "3. Write a Python Program to calculate your Body Mass Index?\n",
    "4. Write a Python Program to calculate the natural logarithm of any number?\n",
    "5. Write a Python Program for cube sum of first n natural numbers?"
   ]
  },
  {
   "cell_type": "code",
   "execution_count": 8,
   "metadata": {},
   "outputs": [],
   "source": [
    "#Q1: Fibbonacci Series with Recursion\n",
    "\n",
    "def fibbo_r(n):\n",
    "    if n==0:\n",
    "        return 0\n",
    "    elif n==1:\n",
    "        return 1\n",
    "    else:\n",
    "        return fibbo_r(n-1) + fibbo_r(n-2)"
   ]
  },
  {
   "cell_type": "code",
   "execution_count": 10,
   "metadata": {},
   "outputs": [
    {
     "name": "stdout",
     "output_type": "stream",
     "text": [
      "Enter the range of numbers in Fibbonacci Series: 13\n",
      "0,1,1,2,3,5,8,13,21,34,55,89,144,"
     ]
    }
   ],
   "source": [
    "n=int(input(\"Enter the range of numbers in Fibbonacci Series: \"))\n",
    "for i in range(0,n):\n",
    "    print(fibbo_r(i), end=',')"
   ]
  },
  {
   "cell_type": "code",
   "execution_count": 13,
   "metadata": {},
   "outputs": [],
   "source": [
    "#Q2: Factorial with Recursion\n",
    "\n",
    "def Fact_r(n):\n",
    "    if n==0 or n==1:\n",
    "        return 1\n",
    "    else:\n",
    "        return n*Fact_r(n-1)"
   ]
  },
  {
   "cell_type": "code",
   "execution_count": 15,
   "metadata": {},
   "outputs": [
    {
     "name": "stdout",
     "output_type": "stream",
     "text": [
      "Enter the number to find its factorial: 6\n",
      "The factorial of given number is:  720\n"
     ]
    }
   ],
   "source": [
    "a=int(input(\"Enter the number to find its factorial: \"))\n",
    "print(\"The factorial of given number is: \", Fact_r(a))"
   ]
  },
  {
   "cell_type": "code",
   "execution_count": 16,
   "metadata": {},
   "outputs": [
    {
     "name": "stdout",
     "output_type": "stream",
     "text": [
      "Enter the height in meter scale: 1.71\n",
      "Enter the weignt in Kg: 86\n",
      "BMI for the given values is:  29.410758865975858\n"
     ]
    }
   ],
   "source": [
    "#Q3: Calculate BMI\n",
    "\n",
    "h=float(input(\"Enter the height in meter scale: \"))\n",
    "w=float(input(\"Enter the weignt in Kg: \"))\n",
    "BMI=w/h**2\n",
    "print(\"BMI for the given values is: \", BMI)"
   ]
  },
  {
   "cell_type": "code",
   "execution_count": 19,
   "metadata": {},
   "outputs": [
    {
     "name": "stdout",
     "output_type": "stream",
     "text": [
      "Enter number to find Natural Log: 568485\n",
      "The nautral log of given number is:  13.250730206600357\n"
     ]
    }
   ],
   "source": [
    "#Q4: Natural Log of given number\n",
    "\n",
    "import math\n",
    "\n",
    "n=float(input(\"Enter number to find Natural Log: \"))\n",
    "\n",
    "print(\"The nautral log of given number is: \", math.log(n))"
   ]
  },
  {
   "cell_type": "code",
   "execution_count": 22,
   "metadata": {},
   "outputs": [],
   "source": [
    "#Q5: Sum of Cube of first n natural numbers\n",
    "\n",
    "def cube_sum(n):\n",
    "    res=0\n",
    "    for i in range(1,n+1):\n",
    "        res=res+i**3\n",
    "    return res"
   ]
  },
  {
   "cell_type": "code",
   "execution_count": 27,
   "metadata": {},
   "outputs": [
    {
     "data": {
      "text/plain": [
       "354025"
      ]
     },
     "execution_count": 27,
     "metadata": {},
     "output_type": "execute_result"
    }
   ],
   "source": [
    "cube_sum(34)"
   ]
  },
  {
   "cell_type": "code",
   "execution_count": null,
   "metadata": {},
   "outputs": [],
   "source": []
  }
 ],
 "metadata": {
  "kernelspec": {
   "display_name": "Python 3",
   "language": "python",
   "name": "python3"
  },
  "language_info": {
   "codemirror_mode": {
    "name": "ipython",
    "version": 3
   },
   "file_extension": ".py",
   "mimetype": "text/x-python",
   "name": "python",
   "nbconvert_exporter": "python",
   "pygments_lexer": "ipython3",
   "version": "3.7.4"
  }
 },
 "nbformat": 4,
 "nbformat_minor": 2
}
