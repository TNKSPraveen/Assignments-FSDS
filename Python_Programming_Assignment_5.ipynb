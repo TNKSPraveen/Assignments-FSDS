{
  "nbformat": 4,
  "nbformat_minor": 0,
  "metadata": {
    "colab": {
      "name": "Python_Programming_Assignment_5.ipynb",
      "provenance": [],
      "collapsed_sections": []
    },
    "kernelspec": {
      "name": "python3",
      "display_name": "Python 3"
    },
    "language_info": {
      "name": "python"
    }
  },
  "cells": [
    {
      "cell_type": "markdown",
      "source": [
        "1. Write a Python Program to Find LCM?\n",
        "2. Write a Python Program to Find HCF?\n",
        "3. Write a Python Program to Convert Decimal to Binary, Octal and Hexadecimal?\n",
        "4. Write a Python Program To Find ASCII value of a character?\n",
        "5. Write a Python Program to Make a Simple Calculator with 4 basic mathematical operations?"
      ],
      "metadata": {
        "id": "s1_Ek1grw3Nu"
      }
    },
    {
      "cell_type": "code",
      "source": [
        "#Question 1: LCM of 2 numbers \n",
        "\n",
        "def LCM2(a,b):\n",
        "\n",
        "  if a<b:\n",
        "    multiple=b\n",
        "  else:\n",
        "    multiple=a\n",
        "\n",
        "  for i in range(multiple,a*b+1):\n",
        "    if (multiple%a==0) and (multiple%b==0):\n",
        "      LCM = multiple\n",
        "      break\n",
        "\n",
        "    else:\n",
        "      multiple=multiple+1\n",
        "\n",
        "  return LCM"
      ],
      "metadata": {
        "id": "jHvv4zp81z8A"
      },
      "execution_count": null,
      "outputs": []
    },
    {
      "cell_type": "code",
      "source": [
        "LCM2(600,13)"
      ],
      "metadata": {
        "colab": {
          "base_uri": "https://localhost:8080/"
        },
        "id": "8apv1TtbyOvj",
        "outputId": "11c70ffd-a893-47bf-e912-0a6fb2b44070"
      },
      "execution_count": null,
      "outputs": [
        {
          "output_type": "execute_result",
          "data": {
            "text/plain": [
              "7800"
            ]
          },
          "metadata": {},
          "execution_count": 15
        }
      ]
    },
    {
      "cell_type": "code",
      "source": [
        "#Question 2: HCF of 2 numbers\n",
        "\n",
        "def HCF2(a,b):\n",
        "\n",
        "  HCF = 0\n",
        "  for i in range(2,a*b+1):\n",
        "    if (a%i==0) and (b%i==0):\n",
        "      HCF = i\n",
        "    \n",
        "    else:\n",
        "      i=i+1\n",
        "\n",
        "  if HCF==0:\n",
        "    return 1\n",
        "  \n",
        "  else:\n",
        "    return HCF\n",
        "    "
      ],
      "metadata": {
        "id": "EnUaS-fF0wWM"
      },
      "execution_count": null,
      "outputs": []
    },
    {
      "cell_type": "code",
      "source": [
        "HCF2(6,8)"
      ],
      "metadata": {
        "colab": {
          "base_uri": "https://localhost:8080/"
        },
        "id": "zlxUqLyvQGpG",
        "outputId": "7dd140e8-8823-482d-d10e-1ee7631577e0"
      },
      "execution_count": null,
      "outputs": [
        {
          "output_type": "execute_result",
          "data": {
            "text/plain": [
              "2"
            ]
          },
          "metadata": {},
          "execution_count": 50
        }
      ]
    },
    {
      "cell_type": "code",
      "source": [
        "a = '1'\n",
        "b = '0'\n",
        "a+b"
      ],
      "metadata": {
        "colab": {
          "base_uri": "https://localhost:8080/",
          "height": 36
        },
        "id": "pk1VktQZQJz2",
        "outputId": "df93e2ee-67bc-41bd-b123-3fa9b49d1ff2"
      },
      "execution_count": null,
      "outputs": [
        {
          "output_type": "execute_result",
          "data": {
            "text/plain": [
              "'10'"
            ],
            "application/vnd.google.colaboratory.intrinsic+json": {
              "type": "string"
            }
          },
          "metadata": {},
          "execution_count": 51
        }
      ]
    },
    {
      "cell_type": "code",
      "source": [
        "#Question 3: Numbers to binary, octal, hexa\n",
        "\n",
        "def Bin(n):\n",
        "  \"\"\"This function is to convert number to binary\"\"\"\n",
        "  \n",
        "  str= \" \"\n",
        "#To Binary convertion\n",
        "  for i in range(0,n):\n",
        "    if n==1:\n",
        "      str = str + '1'\n",
        "      break\n",
        "    elif n==0:\n",
        "      str = str + '0'\n",
        "      break\n",
        "    elif n%2==0:\n",
        "      str = str + '0'\n",
        "      n=n/2\n",
        "    else:\n",
        "      str=str + '1'\n",
        "      n=(n-1)/2\n",
        "  print(\"The Binary form of n is: \", str[::-1])\n"
      ],
      "metadata": {
        "id": "EDhcsNGAFVCt"
      },
      "execution_count": null,
      "outputs": []
    },
    {
      "cell_type": "code",
      "source": [
        "Bin(800)"
      ],
      "metadata": {
        "colab": {
          "base_uri": "https://localhost:8080/"
        },
        "id": "IQDGTxBMGn_n",
        "outputId": "ad26fdcc-8a90-48a7-b418-7de5f5c7bf09"
      },
      "execution_count": null,
      "outputs": [
        {
          "output_type": "stream",
          "name": "stdout",
          "text": [
            "The Binary form of n is:  1100100000 \n"
          ]
        }
      ]
    },
    {
      "cell_type": "code",
      "source": [
        "#To Octa convertion\n",
        "\n",
        "def octa(n):\n",
        "  \"\"\"This function converts the decimal number to Octa base number\"\"\"\n",
        "  Oc=0\n",
        "  for i in range(0,n):\n",
        "    if n!=0:\n",
        "      Oc= (Oc/10) + (n%8)\n",
        "      n=(n-(n%8))/8\n",
        "    \n",
        "    if n==0:\n",
        "      break\n",
        "  \n",
        "  print(\"The Octal of n is: \", Oc*(10**i))"
      ],
      "metadata": {
        "id": "p_iZU5zlHaCM"
      },
      "execution_count": null,
      "outputs": []
    },
    {
      "cell_type": "code",
      "source": [
        "octa(800)"
      ],
      "metadata": {
        "colab": {
          "base_uri": "https://localhost:8080/"
        },
        "id": "z1Tswh8HUvB8",
        "outputId": "5f8ba50e-7741-49ba-fdfd-bd5ad0e98fe8"
      },
      "execution_count": null,
      "outputs": [
        {
          "output_type": "stream",
          "name": "stdout",
          "text": [
            "The Octal of n is:  1440.0\n"
          ]
        }
      ]
    },
    {
      "cell_type": "code",
      "source": [
        "#To Hexadecimal Convertion\n",
        "\n",
        "def Hex(n):\n",
        "  '''This Function converts Decimal number to Hexa decimal number'''\n",
        "  He=0\n",
        "  for i in range(0,n):\n",
        "    if n!=0:\n",
        "      He= (He/10) + (n%16)\n",
        "      n=(n-(n%16))/16\n",
        "    \n",
        "    if n==0:\n",
        "      break\n",
        "  \n",
        "  print(\"The Hexadecimal of n is: \", He*(10**i))"
      ],
      "metadata": {
        "id": "wkF_IbCcYE03"
      },
      "execution_count": null,
      "outputs": []
    },
    {
      "cell_type": "code",
      "source": [
        "Hex(800)"
      ],
      "metadata": {
        "colab": {
          "base_uri": "https://localhost:8080/"
        },
        "id": "ZMJZ7z9KdLsW",
        "outputId": "797a7923-062f-4c75-9055-a0be85335c9b"
      },
      "execution_count": null,
      "outputs": [
        {
          "output_type": "stream",
          "name": "stdout",
          "text": [
            "The Hexadecimal of n is:  320.0\n"
          ]
        }
      ]
    },
    {
      "cell_type": "code",
      "source": [
        "#Question 4:To find ASCII value of a character\n",
        "\n",
        "Char = input(\"Enter the character to find ASCII value: \")\n",
        "ord(Char)"
      ],
      "metadata": {
        "colab": {
          "base_uri": "https://localhost:8080/"
        },
        "id": "Ga3JaeQ-dNrS",
        "outputId": "f1abf859-882c-44ed-a687-a00f4774ac40"
      },
      "execution_count": null,
      "outputs": [
        {
          "name": "stdout",
          "output_type": "stream",
          "text": [
            "Enter the character to find ASCII value: I\n"
          ]
        },
        {
          "output_type": "execute_result",
          "data": {
            "text/plain": [
              "73"
            ]
          },
          "metadata": {},
          "execution_count": 133
        }
      ]
    },
    {
      "cell_type": "code",
      "source": [
        "#Question 5: Basic calculator with 4 mathamatical operations\n",
        "\n",
        "x=float(input(\"Enter 1st number: \"))\n",
        "y=float(input(\"Enter 2nd number: \"))\n",
        "\n",
        "Oper=int(input(\"Select one option \\n 1. Addition,\\n 2. Subtraction,\\n 3. Multiply,\\n 4. Divide \\t\"))\n",
        "\n",
        "if Oper==1:\n",
        "  Result=x+y\n",
        "  print(\"Sum of given numbers is: \", Result)\n",
        "\n",
        "elif Oper==2:\n",
        "  Result=x-y\n",
        "  print(\"Subtraction of given numbers is: \", Result)\n",
        "\n",
        "elif Oper==3:\n",
        "  Result=x*y\n",
        "  print(\"Multiplication of given numbers is: \", Result)\n",
        "\n",
        "elif Oper==4:\n",
        "  if y==0:\n",
        "    print(\"Division by 0 is not possible\")\n",
        "  \n",
        "  else:\n",
        "    Result=x/y\n",
        "    print(\"Division of given numbers is: \", Result)\n",
        "\n",
        "else:\n",
        "  print(\"Please select proper operation\")\n"
      ],
      "metadata": {
        "id": "LJBvia3Me7jZ",
        "colab": {
          "base_uri": "https://localhost:8080/"
        },
        "outputId": "55126809-7426-4e46-881b-f1864fbe1881"
      },
      "execution_count": 138,
      "outputs": [
        {
          "output_type": "stream",
          "name": "stdout",
          "text": [
            "Enter 1st number: 54768768\n",
            "Enter 2nd number: 546876\n",
            "Select one option \n",
            " 1. Addition,\n",
            " 2. Subtraction,\n",
            " 3. Multiply,\n",
            " 4. Divide \t4\n",
            "Division of given numbers is:  100.14842121431549\n"
          ]
        }
      ]
    },
    {
      "cell_type": "code",
      "source": [
        ""
      ],
      "metadata": {
        "id": "aOJ1pDeihjGm"
      },
      "execution_count": null,
      "outputs": []
    }
  ]
}