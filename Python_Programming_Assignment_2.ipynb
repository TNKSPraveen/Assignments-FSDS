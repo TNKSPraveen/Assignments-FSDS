{
  "nbformat": 4,
  "nbformat_minor": 0,
  "metadata": {
    "colab": {
      "name": "Python_Programming_Assignment_2.ipynb",
      "provenance": [],
      "collapsed_sections": []
    },
    "kernelspec": {
      "name": "python3",
      "display_name": "Python 3"
    },
    "language_info": {
      "name": "python"
    }
  },
  "cells": [
    {
      "cell_type": "markdown",
      "source": [
        "1. Write a Python program to convert kilometers to miles?\n",
        "2. Write a Python program to convert Celsius to Fahrenheit?\n",
        "3. Write a Python program to display calendar?\n",
        "4. Write a Python program to solve quadratic equation?\n",
        "5. Write a Python program to swap two variables without temp variable?"
      ],
      "metadata": {
        "id": "v6_cPNyeop68"
      }
    },
    {
      "cell_type": "code",
      "source": [
        "# Question 1: Convert kms to miles\n",
        "\n",
        "kms=float(input(\"Enter number of Kilometers: \"))\n",
        "\n",
        "Miles = kms*0.6214\n",
        "\n",
        "print(kms, \"kms =\", Miles, \"miles\")"
      ],
      "metadata": {
        "colab": {
          "base_uri": "https://localhost:8080/"
        },
        "id": "zAm7DGnRosXH",
        "outputId": "9af651d9-e785-40f8-9468-dbbf0ae7c600"
      },
      "execution_count": 3,
      "outputs": [
        {
          "output_type": "stream",
          "name": "stdout",
          "text": [
            "Enter number of Kilometers: 8\n",
            "8.0 kms = 4.9712 miles\n"
          ]
        }
      ]
    },
    {
      "cell_type": "code",
      "source": [
        "# Question 2: Convert Celsius to Fahrenheit\n",
        "\n",
        "Cel=float(input(\"Enter the Temp in Celsius: \"))\n",
        "\n",
        "Far = 1.8*Cel+32\n",
        "\n",
        "print(Cel, \"C =\", Far, \"F\")"
      ],
      "metadata": {
        "colab": {
          "base_uri": "https://localhost:8080/"
        },
        "id": "P11QOOQgpyyH",
        "outputId": "19f3ab29-7b7e-421f-a7db-c31d73c3be4e"
      },
      "execution_count": 6,
      "outputs": [
        {
          "output_type": "stream",
          "name": "stdout",
          "text": [
            "Enter the Temp in Celsius: 45\n",
            "45.0 C = 113.0 F\n"
          ]
        }
      ]
    },
    {
      "cell_type": "code",
      "source": [
        "# Question 3: Program to display calender\n",
        "\n",
        "import calendar\n",
        "\n",
        "Year=int(input(\"Enter the year: \"))\n",
        "Month=int(input(\"Enter the Month: \"))\n",
        "\n",
        "print(calendar.month(Year, Month))"
      ],
      "metadata": {
        "colab": {
          "base_uri": "https://localhost:8080/"
        },
        "id": "0TRyIuJYq5zG",
        "outputId": "dfcb1eeb-aad2-4d40-b2b9-6dff783105c0"
      },
      "execution_count": 7,
      "outputs": [
        {
          "output_type": "stream",
          "name": "stdout",
          "text": [
            "Enter the year: 2021\n",
            "Enter the Month: 03\n",
            "     March 2021\n",
            "Mo Tu We Th Fr Sa Su\n",
            " 1  2  3  4  5  6  7\n",
            " 8  9 10 11 12 13 14\n",
            "15 16 17 18 19 20 21\n",
            "22 23 24 25 26 27 28\n",
            "29 30 31\n",
            "\n"
          ]
        }
      ]
    },
    {
      "cell_type": "code",
      "source": [
        "# Question 4: Python Program to solve quadratic equation\n",
        "\n",
        "print(\"To Solve the Quadratic Equation: ax**2+bx+c=0: \")\n",
        "\n",
        "a=float(input(\"Please enter 'a' Value: \"))\n",
        "b=float(input(\"Please enter 'b' Value: \"))\n",
        "c=float(input(\"Please enter 'c' Value: \"))\n",
        "\n",
        "d=(b**2)-(4*a*c)\n",
        "\n",
        "Sol1=(-b+(d**0.5))/(2*a)\n",
        "Sol2=(-b-(d**0.5))/(2*a)\n",
        "  \n",
        "print(\"The Solution for the equation is: \", Sol1,Sol2)"
      ],
      "metadata": {
        "colab": {
          "base_uri": "https://localhost:8080/"
        },
        "id": "QZV7yy4QuUBZ",
        "outputId": "1e4bf8a0-a225-4202-84b3-b5bfb9d5679a"
      },
      "execution_count": 20,
      "outputs": [
        {
          "output_type": "stream",
          "name": "stdout",
          "text": [
            "To Solve the Quadratic Equation: ax**2+bx+c=0: \n",
            "Please enter 'a' Value: 5\n",
            "Please enter 'b' Value: 4\n",
            "Please enter 'c' Value: 3\n",
            "The Solution for the equation is:  (-0.39999999999999997+0.6633249580710799j) (-0.4-0.6633249580710799j)\n"
          ]
        }
      ]
    },
    {
      "cell_type": "code",
      "source": [
        "# Question 5: Swap 2 variables without Temp variable\n",
        "\n",
        "Swap_1 = \"This is First Line\"\n",
        "Swap_2 = \"This is 2nd Line\"\n",
        "\n",
        "print(\"This is before Swap: \", Swap_1,\",\", Swap_2)\n",
        "\n",
        "Swap_1, Swap_2 = Swap_2, Swap_1\n",
        "\n",
        "print(\"This is after Swap: \", Swap_1,\",\", Swap_2)"
      ],
      "metadata": {
        "colab": {
          "base_uri": "https://localhost:8080/"
        },
        "id": "4Fuv0nmQ0WbY",
        "outputId": "b4f26323-18d0-4921-e964-3278fc88737c"
      },
      "execution_count": 26,
      "outputs": [
        {
          "output_type": "stream",
          "name": "stdout",
          "text": [
            "This is before Swap:  This is First Line , This is 2nd Line\n",
            "This is after Swap:  This is 2nd Line , This is First Line\n"
          ]
        }
      ]
    },
    {
      "cell_type": "code",
      "source": [
        ""
      ],
      "metadata": {
        "id": "hk4fR82RFc5v"
      },
      "execution_count": null,
      "outputs": []
    }
  ]
}