{
  "nbformat": 4,
  "nbformat_minor": 0,
  "metadata": {
    "colab": {
      "name": "Python Basics_Assignment_1.ipynb",
      "provenance": []
    },
    "kernelspec": {
      "name": "python3",
      "display_name": "Python 3"
    },
    "language_info": {
      "name": "python"
    }
  },
  "cells": [
    {
      "cell_type": "markdown",
      "source": [
        "Question 1. Values and Strings\n",
        "\n",
        "a. *       : Mathamatical Operator\n",
        "b. 'hello' : String\n",
        "c. -87.5   : Float\n",
        "d. -       : Mathamatical Operator\n",
        "e. /       : Mathamatical Operator\n",
        "f. +       : Mathamatical Operator\n",
        "g. 6       : Integer"
      ],
      "metadata": {
        "id": "dUOZ5m54ez1P"
      }
    },
    {
      "cell_type": "code",
      "source": [
        "b='hello'\n",
        "type(b)"
      ],
      "metadata": {
        "colab": {
          "base_uri": "https://localhost:8080/"
        },
        "id": "pwhAEyNZf3s5",
        "outputId": "349cfda1-79ed-4b07-d71b-ce56529f319c"
      },
      "execution_count": 1,
      "outputs": [
        {
          "output_type": "execute_result",
          "data": {
            "text/plain": [
              "str"
            ]
          },
          "metadata": {},
          "execution_count": 1
        }
      ]
    },
    {
      "cell_type": "code",
      "source": [
        "c=-87.5\n",
        "type(c)"
      ],
      "metadata": {
        "colab": {
          "base_uri": "https://localhost:8080/"
        },
        "id": "YkBU2m7IgCfS",
        "outputId": "119fb73d-9200-4cea-9816-2fde3b71379c"
      },
      "execution_count": 2,
      "outputs": [
        {
          "output_type": "execute_result",
          "data": {
            "text/plain": [
              "float"
            ]
          },
          "metadata": {},
          "execution_count": 2
        }
      ]
    },
    {
      "cell_type": "code",
      "source": [
        "g=6\n",
        "type(g)"
      ],
      "metadata": {
        "colab": {
          "base_uri": "https://localhost:8080/"
        },
        "id": "s-HacTC5gFeO",
        "outputId": "dd2d0948-564b-49f6-f825-cc89671752ba"
      },
      "execution_count": 3,
      "outputs": [
        {
          "output_type": "execute_result",
          "data": {
            "text/plain": [
              "int"
            ]
          },
          "metadata": {},
          "execution_count": 3
        }
      ]
    },
    {
      "cell_type": "markdown",
      "source": [
        "Question 2. Difference: \n",
        "String is the information or data that will be saved in Variable.\n",
        "Variable is the information storage symbol."
      ],
      "metadata": {
        "id": "MBJDneeLhAat"
      }
    },
    {
      "cell_type": "markdown",
      "source": [
        "Question 3. Data Types:\n",
        "a. Int: Integer - the numeric values. ex: 4\n",
        "b. Bool: Boolean values - returns True or False value.\n",
        "c. List: Multiple Datas saved under one list. ex: List_1=[\"Jan\", \"Feb\", \"Mar\"]\n",
        "d. Str: String - text data. ex: \"Decide and Dedicate\""
      ],
      "metadata": {
        "id": "nPOvzaALjFRj"
      }
    },
    {
      "cell_type": "markdown",
      "source": [
        "Question 4. Expressions:\n",
        "Expressions contains variables, operators which are used to compute or return value. Ex: C=a+b, a,b,c are variables and these are linked by operators."
      ],
      "metadata": {
        "id": "QGGa8-h_nsfw"
      }
    },
    {
      "cell_type": "markdown",
      "source": [
        "Question 5. Statement: Spam=10.\n",
        "A statement is a defined rule or a value already given.\n",
        "But expession will have variables operators which will compute or return a result."
      ],
      "metadata": {
        "id": "rQeO7GLipEWF"
      }
    },
    {
      "cell_type": "markdown",
      "source": [
        "Question 6. Final Value for the following code: bacon=22"
      ],
      "metadata": {
        "id": "Bf9Tym99qQKt"
      }
    },
    {
      "cell_type": "code",
      "source": [
        "bacon=22\n",
        "bacon+1\n",
        "bacon"
      ],
      "metadata": {
        "colab": {
          "base_uri": "https://localhost:8080/"
        },
        "id": "Z8HbO22rpNWr",
        "outputId": "20c95a46-52f7-4e0b-e839-b4b8c9e26869"
      },
      "execution_count": 4,
      "outputs": [
        {
          "output_type": "execute_result",
          "data": {
            "text/plain": [
              "22"
            ]
          },
          "metadata": {},
          "execution_count": 4
        }
      ]
    },
    {
      "cell_type": "markdown",
      "source": [
        "QUestion 7. Values for the following codes:"
      ],
      "metadata": {
        "id": "cV9iZ9Y4qgCq"
      }
    },
    {
      "cell_type": "code",
      "source": [
        "'spam'+'spamspam'\n"
      ],
      "metadata": {
        "colab": {
          "base_uri": "https://localhost:8080/",
          "height": 36
        },
        "id": "iLWfukaiqwDs",
        "outputId": "fbd8ab42-aada-448e-8b97-0b2881bdf2fc"
      },
      "execution_count": 5,
      "outputs": [
        {
          "output_type": "execute_result",
          "data": {
            "text/plain": [
              "'spamspamspam'"
            ],
            "application/vnd.google.colaboratory.intrinsic+json": {
              "type": "string"
            }
          },
          "metadata": {},
          "execution_count": 5
        }
      ]
    },
    {
      "cell_type": "code",
      "source": [
        "'spam'*3"
      ],
      "metadata": {
        "colab": {
          "base_uri": "https://localhost:8080/",
          "height": 36
        },
        "id": "Ka1ehok5q-QT",
        "outputId": "30affbf0-128b-4c5c-e983-2045fbd11993"
      },
      "execution_count": 6,
      "outputs": [
        {
          "output_type": "execute_result",
          "data": {
            "text/plain": [
              "'spamspamspam'"
            ],
            "application/vnd.google.colaboratory.intrinsic+json": {
              "type": "string"
            }
          },
          "metadata": {},
          "execution_count": 6
        }
      ]
    },
    {
      "cell_type": "markdown",
      "source": [
        "Question 8. Why is eggs a valid variable name while 100 is invalid?\n",
        "100 is an integer, with some value but eggs unless defined is not having a value. Hence eggs can be a valid variable."
      ],
      "metadata": {
        "id": "idPH4bUXrIWB"
      }
    },
    {
      "cell_type": "markdown",
      "source": [
        "Question 9. What three functions can be used to get the integer, floating-point number, or string version of a value?\n",
        "ANS: int(),float(),str()"
      ],
      "metadata": {
        "id": "73qpQY-or0ab"
      }
    },
    {
      "cell_type": "code",
      "source": [
        "test=54.65\n",
        "value1=int(test)\n",
        "value1"
      ],
      "metadata": {
        "colab": {
          "base_uri": "https://localhost:8080/"
        },
        "id": "tZXXGPoEsI8m",
        "outputId": "39d65589-07d4-4b6c-bedc-c09f261acbf7"
      },
      "execution_count": 7,
      "outputs": [
        {
          "output_type": "execute_result",
          "data": {
            "text/plain": [
              "54"
            ]
          },
          "metadata": {},
          "execution_count": 7
        }
      ]
    },
    {
      "cell_type": "code",
      "source": [
        "value2=float(test)\n",
        "value2"
      ],
      "metadata": {
        "colab": {
          "base_uri": "https://localhost:8080/"
        },
        "id": "8t_m2s3hsWe6",
        "outputId": "fef8b47a-d417-4fee-aee2-addefddad01f"
      },
      "execution_count": 8,
      "outputs": [
        {
          "output_type": "execute_result",
          "data": {
            "text/plain": [
              "54.65"
            ]
          },
          "metadata": {},
          "execution_count": 8
        }
      ]
    },
    {
      "cell_type": "code",
      "source": [
        "value3=str(test)\n",
        "value3"
      ],
      "metadata": {
        "colab": {
          "base_uri": "https://localhost:8080/",
          "height": 36
        },
        "id": "eRazNJ5Ssr5C",
        "outputId": "67291faf-1f50-4802-d9ce-4f12b6c8b1fe"
      },
      "execution_count": 9,
      "outputs": [
        {
          "output_type": "execute_result",
          "data": {
            "text/plain": [
              "'54.65'"
            ],
            "application/vnd.google.colaboratory.intrinsic+json": {
              "type": "string"
            }
          },
          "metadata": {},
          "execution_count": 9
        }
      ]
    },
    {
      "cell_type": "markdown",
      "source": [
        "Question 10. Why does this expression cause an error? How can you fix it?\n",
        "the 1st and 3rd are string Data types and the 2nd word is an integer, hence the error. To fix this, we need to make the integer to string data type."
      ],
      "metadata": {
        "id": "KSIG2Sy9tAYN"
      }
    },
    {
      "cell_type": "code",
      "source": [
        "'I have eaten' + str(' 99 ') +  'burritos.'\n"
      ],
      "metadata": {
        "colab": {
          "base_uri": "https://localhost:8080/",
          "height": 36
        },
        "id": "7HfDTl9fsv52",
        "outputId": "f55da77d-b4e2-4e81-d9a1-d90cf2d72c2e"
      },
      "execution_count": 10,
      "outputs": [
        {
          "output_type": "execute_result",
          "data": {
            "text/plain": [
              "'I have eaten 99 burritos.'"
            ],
            "application/vnd.google.colaboratory.intrinsic+json": {
              "type": "string"
            }
          },
          "metadata": {},
          "execution_count": 10
        }
      ]
    }
  ]
}