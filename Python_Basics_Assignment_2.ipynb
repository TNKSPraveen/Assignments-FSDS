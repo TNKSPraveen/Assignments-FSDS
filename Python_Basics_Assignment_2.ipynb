{
  "nbformat": 4,
  "nbformat_minor": 0,
  "metadata": {
    "colab": {
      "name": "Python_Basics_Assignment_2.ipynb",
      "provenance": [],
      "collapsed_sections": []
    },
    "kernelspec": {
      "name": "python3",
      "display_name": "Python 3"
    },
    "language_info": {
      "name": "python"
    }
  },
  "cells": [
    {
      "cell_type": "markdown",
      "source": [
        "1.What are the two values of the Boolean data type? How do you write them?\n",
        "2. What are the three different types of Boolean operators?\n",
        "3. Make a list of each Boolean operator&#39;s truth tables (i.e. every possible combination of Boolean\n",
        "values for the operator and what it evaluate ).\n",
        "4. What are the values of the following expressions?\n",
        "(5 &gt; 4) and (3 == 5)\n",
        "not (5 &gt; 4)\n",
        "(5 &gt; 4) or (3 == 5)\n",
        "not ((5 &gt; 4) or (3 == 5))\n",
        "(True and True) and (True == False)\n",
        "(not False) or (not True)\n",
        "5. What are the six comparison operators?\n",
        "6. How do you tell the difference between the equal to and assignment operators?Describe a\n",
        "condition and when you would use one.\n",
        "7. Identify the three blocks in this code:\n",
        "spam = 0\n",
        "if spam == 10:\n",
        "print(&#39;eggs&#39;)\n",
        "if spam &gt; 5:\n",
        "print(&#39;bacon&#39;)\n",
        "else:\n",
        "print(&#39;ham&#39;)\n",
        "print(&#39;spam&#39;)\n",
        "print(&#39;spam&#39;)\n",
        "8. Write code that prints Hello if 1 is stored in spam, prints Howdy if 2 is stored in spam, and prints\n",
        "Greetings! if anything else is stored in spam.\n",
        "\n",
        "9.If your programme is stuck in an endless loop, what keys you’ll press?\n",
        "10. How can you tell the difference between break and continue?\n",
        "11. In a for loop, what is the difference between range(10), range(0, 10), and range(0, 10, 1)?\n",
        "12. Write a short program that prints the numbers 1 to 10 using a for loop. Then write an equivalent\n",
        "program that prints the numbers 1 to 10 using a while loop.\n",
        "13. If you had a function named bacon() inside a module named spam, how would you call it after\n",
        "importing spam?"
      ],
      "metadata": {
        "id": "zfGt3V4r0--4"
      }
    },
    {
      "cell_type": "markdown",
      "source": [
        "#Question1: 2 types of Boolean types\n",
        "True and False are 2 types of Boolean types"
      ],
      "metadata": {
        "id": "pjyx8nji1LWi"
      }
    },
    {
      "cell_type": "code",
      "source": [
        "a=50\n",
        "if a==50:\n",
        "  print(True)"
      ],
      "metadata": {
        "colab": {
          "base_uri": "https://localhost:8080/"
        },
        "id": "J7fH88zV1S94",
        "outputId": "9d67a5db-8080-439d-81e8-a7c412340c44"
      },
      "execution_count": 2,
      "outputs": [
        {
          "output_type": "stream",
          "name": "stdout",
          "text": [
            "True\n"
          ]
        }
      ]
    },
    {
      "cell_type": "code",
      "source": [
        "if a!=49:\n",
        "  print(False)"
      ],
      "metadata": {
        "colab": {
          "base_uri": "https://localhost:8080/"
        },
        "id": "mnW3rohD1dr6",
        "outputId": "7d03449e-1741-4c6a-91ab-c51191a7a617"
      },
      "execution_count": 3,
      "outputs": [
        {
          "output_type": "stream",
          "name": "stdout",
          "text": [
            "False\n"
          ]
        }
      ]
    },
    {
      "cell_type": "markdown",
      "source": [
        "Question 2: Types of Boolean Operators\n",
        "Ans: AND, OR, NOT"
      ],
      "metadata": {
        "id": "4GnBnMk32SP0"
      }
    },
    {
      "cell_type": "markdown",
      "source": [
        "Question 3: Boolean operators and truth table\n",
        "![Truth table.jpg](data:image/jpeg;base64,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)"
      ],
      "metadata": {
        "id": "L1ZvHh2VPn2i"
      }
    },
    {
      "cell_type": "code",
      "source": [
        "# Question 4: FInd the values:\n",
        "(5 > 4) and (3 == 5) "
      ],
      "metadata": {
        "colab": {
          "base_uri": "https://localhost:8080/"
        },
        "id": "LmSpPgshWyGH",
        "outputId": "33ef6148-6631-4d98-c7cf-0717f2149338"
      },
      "execution_count": 4,
      "outputs": [
        {
          "output_type": "execute_result",
          "data": {
            "text/plain": [
              "False"
            ]
          },
          "metadata": {},
          "execution_count": 4
        }
      ]
    },
    {
      "cell_type": "code",
      "source": [
        "not (5 > 4) \n"
      ],
      "metadata": {
        "colab": {
          "base_uri": "https://localhost:8080/"
        },
        "id": "ifQOzqfmWElw",
        "outputId": "be5856b2-82e5-4e0c-a5b7-0a80b96cf123"
      },
      "execution_count": 5,
      "outputs": [
        {
          "output_type": "execute_result",
          "data": {
            "text/plain": [
              "False"
            ]
          },
          "metadata": {},
          "execution_count": 5
        }
      ]
    },
    {
      "cell_type": "code",
      "source": [
        "(5 > 4) or (3 == 5)"
      ],
      "metadata": {
        "colab": {
          "base_uri": "https://localhost:8080/"
        },
        "id": "GnIXWcZBXDAY",
        "outputId": "52e11106-0936-4b53-cbcd-61eea93484a8"
      },
      "execution_count": 8,
      "outputs": [
        {
          "output_type": "execute_result",
          "data": {
            "text/plain": [
              "True"
            ]
          },
          "metadata": {},
          "execution_count": 8
        }
      ]
    },
    {
      "cell_type": "code",
      "source": [
        "not((5 > 4) or (3 == 5))"
      ],
      "metadata": {
        "colab": {
          "base_uri": "https://localhost:8080/"
        },
        "id": "neNI1lIWXQm7",
        "outputId": "6e563999-510d-4023-b9f0-cbafc889d12d"
      },
      "execution_count": 9,
      "outputs": [
        {
          "output_type": "execute_result",
          "data": {
            "text/plain": [
              "False"
            ]
          },
          "metadata": {},
          "execution_count": 9
        }
      ]
    },
    {
      "cell_type": "code",
      "source": [
        "(True and True) and (True == False)"
      ],
      "metadata": {
        "colab": {
          "base_uri": "https://localhost:8080/"
        },
        "id": "WzQ-kGn9XaYw",
        "outputId": "36ec4258-2831-4040-db2e-f981af8a4b80"
      },
      "execution_count": 10,
      "outputs": [
        {
          "output_type": "execute_result",
          "data": {
            "text/plain": [
              "False"
            ]
          },
          "metadata": {},
          "execution_count": 10
        }
      ]
    },
    {
      "cell_type": "code",
      "source": [
        "(not False) or (not True)"
      ],
      "metadata": {
        "colab": {
          "base_uri": "https://localhost:8080/"
        },
        "id": "6tg7QuzRXeoa",
        "outputId": "1274bc3d-0fcf-4075-bf2f-16bef374c003"
      },
      "execution_count": 11,
      "outputs": [
        {
          "output_type": "execute_result",
          "data": {
            "text/plain": [
              "True"
            ]
          },
          "metadata": {},
          "execution_count": 11
        }
      ]
    },
    {
      "cell_type": "markdown",
      "source": [
        "# Question 5: 6 Comparision operators\n",
        "Ans: == , !=, <, <=, >, >="
      ],
      "metadata": {
        "id": "MmquXkJ6X792"
      }
    },
    {
      "cell_type": "code",
      "source": [
        ""
      ],
      "metadata": {
        "id": "Sh7YyTG5Yf8_"
      },
      "execution_count": null,
      "outputs": []
    },
    {
      "cell_type": "markdown",
      "source": [
        "# QUestion 6: difference between the equal to and assignment operators?Describe a condition and when you would use one.\n",
        "Ans: '==' operator is used to compare the values on either sides if equal or not. But '=' operator is used to assign values to variables.\n",
        "When executed, '==' returns boolean value and '=' returns value of the variable assigned."
      ],
      "metadata": {
        "id": "nN9GqdqeYnCF"
      }
    },
    {
      "cell_type": "code",
      "source": [
        "4 == 3"
      ],
      "metadata": {
        "colab": {
          "base_uri": "https://localhost:8080/"
        },
        "id": "1HZiJGnOY9mv",
        "outputId": "cca373fd-e108-4a83-d40c-9e83d906d655"
      },
      "execution_count": 14,
      "outputs": [
        {
          "output_type": "execute_result",
          "data": {
            "text/plain": [
              "False"
            ]
          },
          "metadata": {},
          "execution_count": 14
        }
      ]
    },
    {
      "cell_type": "code",
      "source": [
        "a=4\n",
        "a"
      ],
      "metadata": {
        "colab": {
          "base_uri": "https://localhost:8080/"
        },
        "id": "9hi54vbfZBtc",
        "outputId": "e4fdcdab-854f-4a09-c113-c315a32a4924"
      },
      "execution_count": 15,
      "outputs": [
        {
          "output_type": "execute_result",
          "data": {
            "text/plain": [
              "4"
            ]
          },
          "metadata": {},
          "execution_count": 15
        }
      ]
    },
    {
      "cell_type": "code",
      "source": [
        "# QUestion 7: Identify the Blocks of the code\n",
        "\n",
        "spam = 0 \n",
        "if spam == 10: \n",
        "  print('eggs')  ## Code 1st Block\n",
        "\n",
        "if spam > 5: \n",
        "  print('bacon')  ## Code 2nd Block \n",
        "\n",
        "else: \n",
        "  print('ham')    ## Code 3rd Block\n",
        "  print('spam') \n",
        "  print('spam')"
      ],
      "metadata": {
        "colab": {
          "base_uri": "https://localhost:8080/"
        },
        "id": "-BgnGlIXZEVJ",
        "outputId": "c2e5d183-b22f-4fed-c281-7c06ccf28e53"
      },
      "execution_count": 16,
      "outputs": [
        {
          "output_type": "stream",
          "name": "stdout",
          "text": [
            "ham\n",
            "spam\n",
            "spam\n"
          ]
        }
      ]
    },
    {
      "cell_type": "code",
      "source": [
        "# Question 8: Write code that prints Hello if 1 is stored in spam, prints Howdy if 2 is stored in spam, and prints Greetings! if anything else is stored in spam.\n",
        "\n",
        "spam = input(\"Enter something here: \")\n",
        "\n",
        "if type(spam)==int:\n",
        "  \n",
        "  if int(spam)==1:\n",
        "    print('Hello')\n",
        "\n",
        "  elif int(spam)==2:\n",
        "    print('Howdy')\n",
        "\n",
        "else:\n",
        "  print('Greetings!')"
      ],
      "metadata": {
        "colab": {
          "base_uri": "https://localhost:8080/"
        },
        "id": "EVDYFfLSZrWA",
        "outputId": "c771dc36-afbf-4e24-dd79-342b016032ac"
      },
      "execution_count": 26,
      "outputs": [
        {
          "output_type": "stream",
          "name": "stdout",
          "text": [
            "Enter something here: 6\n",
            "Greetings!\n"
          ]
        }
      ]
    },
    {
      "cell_type": "markdown",
      "source": [
        "# Question 9: If your programme is stuck in an endless loop, what keys you’ll press?\n",
        "#And: Crtl+c"
      ],
      "metadata": {
        "id": "Zp_lNAbZcj2g"
      }
    },
    {
      "cell_type": "markdown",
      "source": [
        "# Question 10. How can you tell the difference between break and continue?\n",
        "And: Break: stops the execution of current loop and jumps the execution out of the **current loop** and gives control to Main body or next loop. Where as Continue skips the **current iteration** and executes next iteration."
      ],
      "metadata": {
        "id": "xEpBFH8Qckhz"
      }
    },
    {
      "cell_type": "code",
      "source": [
        "# Question 11: In a for loop, what is the difference between range(10), range(0, 10), and range(0, 10, 1)?\n",
        "\n",
        "# All the 3 are simillar, but range(0,10) has start and end defined in the statement\n",
        "# range(0,10,1) has start, end and increment defined in the statement\n",
        "# range(10) gives the values from 0 to 9 (upper bound-1)\n",
        "\n",
        "for i in range(10):\n",
        "  print(i, end=\" \")"
      ],
      "metadata": {
        "colab": {
          "base_uri": "https://localhost:8080/"
        },
        "id": "7hS71jvodpcE",
        "outputId": "f938201a-e958-46f4-eb89-009c38bcfd7b"
      },
      "execution_count": 34,
      "outputs": [
        {
          "output_type": "stream",
          "name": "stdout",
          "text": [
            "0 1 2 3 4 5 6 7 8 9 "
          ]
        }
      ]
    },
    {
      "cell_type": "code",
      "source": [
        "for i in range(0,10):\n",
        "  print(i, end=' ')"
      ],
      "metadata": {
        "colab": {
          "base_uri": "https://localhost:8080/"
        },
        "id": "hN0ELX6neJza",
        "outputId": "8e0257fa-59a6-43aa-969b-6ca26c5607ad"
      },
      "execution_count": 35,
      "outputs": [
        {
          "output_type": "stream",
          "name": "stdout",
          "text": [
            "0 1 2 3 4 5 6 7 8 9 "
          ]
        }
      ]
    },
    {
      "cell_type": "code",
      "source": [
        "for i in range(0,10,1):\n",
        "  print(i, end=' ')"
      ],
      "metadata": {
        "colab": {
          "base_uri": "https://localhost:8080/"
        },
        "id": "U-jMkCxxfANj",
        "outputId": "f374c518-3e25-4c22-ed0b-1fc609be316a"
      },
      "execution_count": 36,
      "outputs": [
        {
          "output_type": "stream",
          "name": "stdout",
          "text": [
            "0 1 2 3 4 5 6 7 8 9 "
          ]
        }
      ]
    },
    {
      "cell_type": "code",
      "source": [
        "# Question 12: Write a short program that prints the numbers 1 to 10 using a for loop. Then write an equivalent program that prints the numbers 1 to 10 using a while loop.\n",
        "\n",
        "print(\"for loop for printing 1 to 10 numbers\")\n",
        "for i in range(1,11):\n",
        "  print(i, end=' ')\n",
        "\n",
        "print(\"\\nwhile loop for printing 1 to 10 numbers\")\n",
        "num=0\n",
        "while(num<10):\n",
        "  num=num+1\n",
        "  print(num, end=' ')"
      ],
      "metadata": {
        "colab": {
          "base_uri": "https://localhost:8080/"
        },
        "id": "oLyYmDBZfCjp",
        "outputId": "dd4226b9-36de-4427-846f-b2ce0ea33473"
      },
      "execution_count": 42,
      "outputs": [
        {
          "output_type": "stream",
          "name": "stdout",
          "text": [
            "for loop for printing 1 to 10 numbers\n",
            "1 2 3 4 5 6 7 8 9 10 \n",
            "while loop for printing 1 to 10 numbers\n",
            "1 2 3 4 5 6 7 8 9 10 "
          ]
        }
      ]
    },
    {
      "cell_type": "markdown",
      "source": [
        "# Question 13: If you had a function named bacon() inside a module named spam, how would you call it after importing spam?\n",
        "\n",
        "Ans: use \"spam.bacon()\" to call"
      ],
      "metadata": {
        "id": "Cc3XF2mhk8ai"
      }
    }
  ]
}